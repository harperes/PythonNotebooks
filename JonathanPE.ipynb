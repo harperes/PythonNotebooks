{
 "cells": [
  {
   "cell_type": "code",
   "execution_count": 2,
   "metadata": {},
   "outputs": [],
   "source": [
    "%matplotlib notebook\n",
    "import numpy as np\n",
    "from numba import jit"
   ]
  },
  {
   "cell_type": "code",
   "execution_count": 19,
   "metadata": {},
   "outputs": [],
   "source": [
    "@jit\n",
    "def jSqr(a):\n",
    "    return a**2 # (return a*a)\n",
    "\n",
    "@jit\n",
    "def numbaSqr(a):\n",
    "    b = np.empty(a.shape)\n",
    "    for i in range(a.shape[0]):\n",
    "        b[i] = a[i]*a[i]\n",
    "    return b\n",
    "\n",
    "@jit\n",
    "def numbaSum(a):\n",
    "    c = 0\n",
    "    for i in range(a.shape[0]):\n",
    "        c += a[i]\n",
    "    return c   "
   ]
  },
  {
   "cell_type": "code",
   "execution_count": 12,
   "metadata": {},
   "outputs": [
    {
     "name": "stdout",
     "output_type": "stream",
     "text": [
      "58.7 µs ± 977 ns per loop (mean ± std. dev. of 5 runs, 10000 loops each)\n"
     ]
    }
   ],
   "source": [
    "%%timeit -r 5\n",
    "natNum = np.arange(1,101,1)\n",
    "jFunc = np.vectorize(jSqr)\n",
    "sumOfSquares = (sum(jFunc(natNum)))\n",
    "squareOfSums = sum(natNum)**2\n",
    "dif = squareOfSums - sumOfSquares"
   ]
  },
  {
   "cell_type": "code",
   "execution_count": 18,
   "metadata": {},
   "outputs": [
    {
     "name": "stdout",
     "output_type": "stream",
     "text": [
      "15.7 µs ± 581 ns per loop (mean ± std. dev. of 5 runs, 100000 loops each)\n"
     ]
    }
   ],
   "source": [
    "%%timeit -r 5\n",
    "natNum = np.arange(1,101,1)\n",
    "sumOfSquares = np.sum(natNum**2)\n",
    "# sumOfSquares = np.sum(np.multiply(natNum, natNum))\n",
    "squareOfSums = sum(natNum)**2\n",
    "dif = squareOfSums - sumOfSquares"
   ]
  },
  {
   "cell_type": "code",
   "execution_count": 25,
   "metadata": {},
   "outputs": [
    {
     "name": "stdout",
     "output_type": "stream",
     "text": [
      "7.02 µs ± 712 ns per loop (mean ± std. dev. of 5 runs, 100000 loops each)\n"
     ]
    }
   ],
   "source": [
    "%%timeit -r 5\n",
    "natNum = np.arange(1,101,1)\n",
    "sumOfSquares = np.sum(numbaSqr(natNum))\n",
    "squareOfSums = numbaSum(natNum)**2\n",
    "dif = squareOfSums - sumOfSquares"
   ]
  },
  {
   "cell_type": "code",
   "execution_count": 29,
   "metadata": {},
   "outputs": [
    {
     "name": "stdout",
     "output_type": "stream",
     "text": [
      "31.7 µs ± 1.21 µs per loop (mean ± std. dev. of 5 runs, 10000 loops each)\n"
     ]
    }
   ],
   "source": [
    "%%timeit -r 5\n",
    "sumOfSquares = 0\n",
    "squareOfSums = 0\n",
    "for i in range(1,101,1):\n",
    "    sumOfSquares += i**2\n",
    "    squareOfSums += i\n",
    "squareOfSums *= squareOfSums\n",
    "dif = squareOfSums - sumOfSquares"
   ]
  },
  {
   "cell_type": "code",
   "execution_count": 30,
   "metadata": {},
   "outputs": [
    {
     "name": "stdout",
     "output_type": "stream",
     "text": [
      "104743\n"
     ]
    }
   ],
   "source": [
    "@jit\n",
    "def fastNthPrime(n, limit=125000):\n",
    "    primes = np.zeros(limit)\n",
    "    primes[0] = 0\n",
    "    primes[1] = 0\n",
    "    count = 0\n",
    "    j = 0\n",
    "    index = 0\n",
    "    for i in range(limit):\n",
    "        primes[i] = 1\n",
    "    index = 2\n",
    "    while index < limit:\n",
    "        if primes[index] == 1:\n",
    "            j = index * index\n",
    "            while j < limit:\n",
    "                primes[j] = 0\n",
    "                j += index\n",
    "            count += 1\n",
    "        if count == n:\n",
    "            return index\n",
    "        index += 1\n",
    "    return False\n",
    "\n",
    "print()"
   ]
  },
  {
   "cell_type": "code",
   "execution_count": 31,
   "metadata": {},
   "outputs": [
    {
     "name": "stdout",
     "output_type": "stream",
     "text": [
      "616 µs ± 36.2 µs per loop (mean ± std. dev. of 7 runs, 1000 loops each)\n"
     ]
    }
   ],
   "source": [
    "%%timeit\n",
    "fastNthPrime(10001)"
   ]
  },
  {
   "cell_type": "code",
   "execution_count": null,
   "metadata": {},
   "outputs": [],
   "source": []
  }
 ],
 "metadata": {
  "kernelspec": {
   "display_name": "Python 3",
   "language": "python",
   "name": "python3"
  },
  "language_info": {
   "codemirror_mode": {
    "name": "ipython",
    "version": 3
   },
   "file_extension": ".py",
   "mimetype": "text/x-python",
   "name": "python",
   "nbconvert_exporter": "python",
   "pygments_lexer": "ipython3",
   "version": "3.6.5"
  }
 },
 "nbformat": 4,
 "nbformat_minor": 2
}
