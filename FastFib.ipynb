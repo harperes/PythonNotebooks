{
 "cells": [
  {
   "cell_type": "code",
   "execution_count": 1,
   "metadata": {},
   "outputs": [],
   "source": [
    "import numpy as np\n",
    "from numba import jit"
   ]
  },
  {
   "cell_type": "code",
   "execution_count": null,
   "metadata": {},
   "outputs": [],
   "source": [
    "# for memoization\n",
    "global f\n",
    "f = np.zeros(100, dtype=np.int64)\n",
    "\n",
    "@jit\n",
    "def spaceOptFib(n):\n",
    "    a=0\n",
    "    b=1\n",
    "    if n < 0:\n",
    "        raise RuntimeError(\"n must be >0\")\n",
    "    elif n == 0:\n",
    "        return a\n",
    "    elif n == 1:\n",
    "        return b\n",
    "    else:\n",
    "        for i in range(1,n):\n",
    "            c = a + b\n",
    "            a = b\n",
    "            b = c\n",
    "        return b\n",
    "    \n",
    "@jit\n",
    "def recursiveFib(n):\n",
    "    if n == 0:\n",
    "        return 0\n",
    "    elif n == 1:\n",
    "        f[n] = 1\n",
    "        return f[n]\n",
    "    elif n == 1:\n",
    "        f[n] = 1\n",
    "        return f[n]\n",
    "    if f[n]:\n",
    "        return f[n]\n",
    "    f[n] = f[n-1] + f[n-2]\n",
    "    return f[n]\n",
    "\n",
    "@jit\n",
    "def otherMatrixFib(n):\n",
    "    F = np.array([[1,1],[1,0]])\n",
    "    if n == 0:\n",
    "        return 0\n",
    "    F = quickPow(F, n-1)\n",
    "    return F[0,0]\n",
    "\n",
    "@jit\n",
    "def quickPow(F, n):\n",
    "    if (n == 0) or (n == 1):\n",
    "        return F\n",
    "    M = np.array([[1,1], [1, 0]])\n",
    "    F = quickPow(F, n//2)\n",
    "    F = quickMult(F, F)\n",
    "    if (n & 1):\n",
    "        F = quickMult(F, M)\n",
    "    return F\n",
    "\n",
    "@jit\n",
    "def quickMult(F, M):\n",
    "    x = F[0,0]*M[0,0] + F[0,1]*M[1,0]\n",
    "    y = F[0,0]*M[0,1] + F[0,1]*M[1,1]\n",
    "    z = F[1,0]*M[0,0] + F[1,1]*M[1,0]\n",
    "    w = F[1,0]*M[0,1] + F[1,1]*M[1,1]\n",
    "    \n",
    "    F[0,0] = x\n",
    "    F[0,1] = y\n",
    "    F[1,0] = z\n",
    "    F[1,1] = w\n",
    "    \n",
    "    return F\n",
    "    \n",
    "@jit\n",
    "def matrixFib(n):\n",
    "    if n == 0:\n",
    "        return 0\n",
    "    elif n == 1:\n",
    "        f[n] = 1\n",
    "        return f[n]\n",
    "    elif n == 2:\n",
    "        f[n] = 1\n",
    "        return f[n]\n",
    "    \n",
    "    if f[n]:\n",
    "        return f[n]\n",
    "    \n",
    "    if (n & 1):\n",
    "        k = (n + 1)//2\n",
    "    else:\n",
    "        k = n // 2\n",
    "        \n",
    "    if (n & 1):\n",
    "        f[n] = (matrixFib(k) * matrixFib(k) + matrixFib(k-1) * matrixFib(k-1))\n",
    "    else:\n",
    "        f[n] = (2*matrixFib(k) + matrixFib(k) * matrixFib(k))\n",
    "    \n",
    "    return f[n]"
   ]
  },
  {
   "cell_type": "code",
   "execution_count": null,
   "metadata": {},
   "outputs": [],
   "source": [
    "for i in range(10):\n",
    "    print(otherMatrixFib(i))"
   ]
  },
  {
   "cell_type": "code",
   "execution_count": null,
   "metadata": {},
   "outputs": [],
   "source": [
    "for i in range(10):\n",
    "    print(matrixFib(i))"
   ]
  },
  {
   "cell_type": "code",
   "execution_count": null,
   "metadata": {},
   "outputs": [],
   "source": [
    "for i in range(10):\n",
    "    print(recursiveFib(i))"
   ]
  },
  {
   "cell_type": "code",
   "execution_count": null,
   "metadata": {},
   "outputs": [],
   "source": [
    "%timeit spaceOptFib(32)"
   ]
  },
  {
   "cell_type": "code",
   "execution_count": null,
   "metadata": {},
   "outputs": [],
   "source": [
    "%timeit otherMatrixFib(32)"
   ]
  },
  {
   "cell_type": "code",
   "execution_count": null,
   "metadata": {},
   "outputs": [],
   "source": [
    "%timeit matrixFib(32)"
   ]
  },
  {
   "cell_type": "code",
   "execution_count": null,
   "metadata": {},
   "outputs": [],
   "source": [
    "%timeit recursiveFib(32)"
   ]
  },
  {
   "cell_type": "code",
   "execution_count": 2,
   "metadata": {},
   "outputs": [],
   "source": [
    "import pbFunctions\n",
    "import math"
   ]
  },
  {
   "cell_type": "code",
   "execution_count": 3,
   "metadata": {},
   "outputs": [
    {
     "name": "stdout",
     "output_type": "stream",
     "text": [
      "356 ns ± 10.3 ns per loop (mean ± std. dev. of 7 runs, 1000000 loops each)\n"
     ]
    }
   ],
   "source": [
    "%timeit pbFunctions.fastSqrt(3.2)"
   ]
  },
  {
   "cell_type": "code",
   "execution_count": 4,
   "metadata": {},
   "outputs": [
    {
     "name": "stdout",
     "output_type": "stream",
     "text": [
      "356 ns ± 14.3 ns per loop (mean ± std. dev. of 7 runs, 1000000 loops each)\n"
     ]
    }
   ],
   "source": [
    "%timeit pbFunctions.invSqrt(3.2)"
   ]
  },
  {
   "cell_type": "code",
   "execution_count": 5,
   "metadata": {},
   "outputs": [
    {
     "name": "stdout",
     "output_type": "stream",
     "text": [
      "709 ns ± 4.76 ns per loop (mean ± std. dev. of 7 runs, 1000000 loops each)\n"
     ]
    }
   ],
   "source": [
    "%timeit np.sqrt(3.2)"
   ]
  },
  {
   "cell_type": "code",
   "execution_count": 6,
   "metadata": {},
   "outputs": [
    {
     "name": "stdout",
     "output_type": "stream",
     "text": [
      "84.5 ns ± 0.524 ns per loop (mean ± std. dev. of 7 runs, 10000000 loops each)\n"
     ]
    }
   ],
   "source": [
    "%timeit math.sqrt(3.2)"
   ]
  },
  {
   "cell_type": "code",
   "execution_count": null,
   "metadata": {},
   "outputs": [],
   "source": []
  }
 ],
 "metadata": {
  "kernelspec": {
   "display_name": "Python 3",
   "language": "python",
   "name": "python3"
  },
  "language_info": {
   "codemirror_mode": {
    "name": "ipython",
    "version": 3
   },
   "file_extension": ".py",
   "mimetype": "text/x-python",
   "name": "python",
   "nbconvert_exporter": "python",
   "pygments_lexer": "ipython3",
   "version": "3.6.5"
  }
 },
 "nbformat": 4,
 "nbformat_minor": 2
}
